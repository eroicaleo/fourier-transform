{
 "cells": [
  {
   "cell_type": "code",
   "execution_count": null,
   "id": "e81ab280",
   "metadata": {},
   "outputs": [],
   "source": [
    "import numpy as np\n",
    "import matplotlib.pyplot as plt\n",
    "from matplotlib.ticker import MultipleLocator"
   ]
  },
  {
   "cell_type": "code",
   "execution_count": null,
   "id": "62269bea",
   "metadata": {},
   "outputs": [],
   "source": [
    "# ex 1.1\n",
    "\n",
    "# Generate x values from 0 to 10 with a step of 0.1\n",
    "t = np.arange(0, 2, 0.01)\n",
    "\n",
    "# Calculate the amplitude as the sine of the time values\n",
    "f = np.zeros_like(t)\n",
    "for n in range(5):\n",
    "    amp = -15.0 / (1+n);\n",
    "    phase = -0.1 * n\n",
    "    f += amp * np.sin(2*np.pi*n*t + phase)\n",
    "\n",
    "# Plot the sine wave\n",
    "plt.plot(t, f)\n",
    "\n",
    "# Add labels and title\n",
    "plt.title('Sine wave')\n",
    "plt.xlabel('Time')\n",
    "plt.ylabel('Amplitude = sin(time)')\n",
    "plt.gca().xaxis.set_major_locator(MultipleLocator(0.2))\n",
    "\n",
    "# Add a grid and a horizontal line at y=0\n",
    "plt.grid(True, which='both')\n",
    "plt.axhline(y=0, color='k')\n",
    "\n",
    "# Display the plot\n",
    "plt.show()"
   ]
  },
  {
   "cell_type": "markdown",
   "id": "35abc8cb",
   "metadata": {},
   "source": [
    "# ex 1.6"
   ]
  },
  {
   "cell_type": "code",
   "execution_count": null,
   "id": "06ba93b9",
   "metadata": {},
   "outputs": [],
   "source": [
    "t = np.arange(0, 2, 0.01)\n",
    "\n",
    "f = 3 * np.cos(2 * np.pi * 2 * t - 1.3) + 5 * np.cos(2 * np.pi * 1 * t + 0.5)\n",
    "plt.plot(t, f)\n",
    "plt.show()\n"
   ]
  },
  {
   "cell_type": "code",
   "execution_count": null,
   "id": "f5264db7",
   "metadata": {},
   "outputs": [],
   "source": [
    "print(max(np.around(f, 4)), min(np.around(f, 4)))"
   ]
  },
  {
   "cell_type": "code",
   "execution_count": null,
   "id": "8ccc0dd5",
   "metadata": {},
   "outputs": [],
   "source": []
  }
 ],
 "metadata": {
  "kernelspec": {
   "display_name": "Python 3 (ipykernel)",
   "language": "python",
   "name": "python3"
  },
  "language_info": {
   "codemirror_mode": {
    "name": "ipython",
    "version": 3
   },
   "file_extension": ".py",
   "mimetype": "text/x-python",
   "name": "python",
   "nbconvert_exporter": "python",
   "pygments_lexer": "ipython3",
   "version": "3.11.3"
  }
 },
 "nbformat": 4,
 "nbformat_minor": 5
}
